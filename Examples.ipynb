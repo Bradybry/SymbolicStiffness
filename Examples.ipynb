{
 "cells": [
  {
   "cell_type": "code",
   "execution_count": 1,
   "metadata": {},
   "outputs": [],
   "source": [
    "from SymbolicDirectStiffness import *"
   ]
  },
  {
   "cell_type": "markdown",
   "metadata": {},
   "source": [
    "The intention of this module is to make solving structures using the direct stiffness method easy and to give users a lot of control over the output and how it is handled. Of course, that means that the program doesn't do much for you besides solving structure. Processing the displacments, reactions is on the user. \n",
    "\n",
    "Additonally we can achieve symbolic solutions "
   ]
  },
  {
   "cell_type": "markdown",
   "metadata": {},
   "source": [
    "This is the first structure that we will solve for the reactions, kinematic unknowns and displacements for:\n",
    "\n",
    "![Det Cant](img/SideSway.png)"
   ]
  },
  {
   "cell_type": "markdown",
   "metadata": {},
   "source": [
    "First define the beam characteristics."
   ]
  },
  {
   "cell_type": "code",
   "execution_count": 57,
   "metadata": {
    "scrolled": true
   },
   "outputs": [],
   "source": [
    "L = 120 / 12 ## feet\n",
    "P = 5 ## kip\n",
    "E = 30000 ## kip per square inch\n",
    "I = 400 ## inches^4\n",
    "A = 1000000 ## Set high to sim axial rigidity"
   ]
  },
  {
   "cell_type": "markdown",
   "metadata": {},
   "source": [
    "Next define the structure including it's geometry and loads."
   ]
  },
  {
   "cell_type": "code",
   "execution_count": 58,
   "metadata": {},
   "outputs": [],
   "source": [
    "struct = Structure()\n",
    "\n",
    "struct.add_node('1', (0,0), restraint='fixed')\n",
    "struct.add_node('2', (0, L))\n",
    "struct.add_node('3', (L, L))\n",
    "struct.add_node('4', (L, 0), restraint='fixed')\n",
    "struct.add_beam('1', ('1', '2'), E=E, A=A, I=I)\n",
    "struct.add_beam('2', ('2', '3'), E=E, A=A, I=2*I)\n",
    "struct.add_beam('3', ('3', '4'), E=E, A=A, I=I)\n",
    "\n",
    "struct.add_load('2', (P,0, 0))\n",
    "struct.solve()"
   ]
  },
  {
   "cell_type": "markdown",
   "metadata": {},
   "source": [
    "We can observe the displacements"
   ]
  },
  {
   "cell_type": "code",
   "execution_count": 59,
   "metadata": {
    "scrolled": false
   },
   "outputs": [
    {
     "name": "stdout",
     "output_type": "stream",
     "text": [
      "Delta_1x:\t 0\n",
      "Delta_1y:\t 0\n",
      "theta_1:\t 0\n",
      "Delta_2x:\t 2.13686480766229e-5\n",
      "Delta_2y:\t 7.69219408451814e-10\n",
      "theta_2:\t -8.01455310550253e-7\n",
      "Delta_3x:\t 2.13678147557893e-5\n",
      "Delta_3y:\t -7.69219408451814e-10\n",
      "theta_3:\t -8.01392811487739e-7\n",
      "Delta_4x:\t 0\n",
      "Delta_4y:\t 0\n",
      "theta_4:\t 0\n"
     ]
    }
   ],
   "source": [
    "### displacements\n",
    "for name, node in struct.nodes.items():\n",
    "    print(f'Delta_{name}x:\\t', node.dx)\n",
    "    print(f'Delta_{name}y:\\t', node.dy)\n",
    "    print(f'theta_{name}:\\t', node.dt)\n"
   ]
  },
  {
   "cell_type": "markdown",
   "metadata": {},
   "source": [
    "Next, we can get the reactions at each node"
   ]
  },
  {
   "cell_type": "code",
   "execution_count": 60,
   "metadata": {},
   "outputs": [
    {
     "name": "stdout",
     "output_type": "stream",
     "text": [
      "F_1x:\t -2.50003749943751\n",
      "F_1y:\t -2.30765822535544\n",
      "M_1:\t 13.4619338698478\n",
      "F_2x:\t 5\n",
      "F_2y:\t 0\n",
      "M_2:\t 0\n",
      "F_3x:\t 0\n",
      "F_3y:\t 0\n",
      "M_3:\t 0\n",
      "F_4x:\t -2.49996250056249\n",
      "F_4y:\t 2.30765822535544\n",
      "M_4:\t 13.4614838765977\n"
     ]
    }
   ],
   "source": [
    "### Reactions\n",
    "for name, node in struct.nodes.items():\n",
    "    print(f'F_{name}x:\\t', node.fx)\n",
    "    print(f'F_{name}y:\\t', node.fy)\n",
    "    print(f'M_{name}:\\t', node.moment)"
   ]
  },
  {
   "cell_type": "markdown",
   "metadata": {},
   "source": [
    "Next, we can get the internal forces of each beam"
   ]
  },
  {
   "cell_type": "code",
   "execution_count": 49,
   "metadata": {
    "scrolled": true
   },
   "outputs": [
    {
     "name": "stdout",
     "output_type": "stream",
     "text": [
      "N_12:\t -2.14282775550507\n",
      "V_12:\t 2.50002999964000\n",
      "M_12:\t 14.2860612200747\n",
      "N_21:\t 2.14282775550507\n",
      "V_21:\t -2.50002999964000\n",
      "M_21:\t 10.7142387763254\n",
      "N_23:\t 2.49997000035364\n",
      "V_23:\t -2.14282775550507\n",
      "M_23:\t -10.7142387763254\n",
      "N_32:\t -2.49997000035364\n",
      "V_32:\t 2.14282775550507\n",
      "M_32:\t -10.7140387787253\n",
      "N_34:\t 2.14282775550507\n",
      "V_34:\t 2.49997000036000\n",
      "M_34:\t 10.7140387787253\n",
      "N_43:\t -2.14282775550507\n",
      "V_43:\t -2.49997000036000\n",
      "M_43:\t 14.2856612248746\n"
     ]
    }
   ],
   "source": [
    "for name, beam in struct.beams.items():\n",
    "    beg = beam.nodeA.get_name()\n",
    "    end = beam.nodeB.get_name()\n",
    "    print(f'N_{beg}{end}:\\t', beam.internal[0])\n",
    "    print(f'V_{beg}{end}:\\t', beam.internal[1])\n",
    "    print(f'M_{beg}{end}:\\t', beam.internal[2])\n",
    "    print(f'N_{end}{beg}:\\t', beam.internal[3])\n",
    "    print(f'V_{end}{beg}:\\t', beam.internal[4])\n",
    "    print(f'M_{end}{beg}:\\t', beam.internal[5])\n",
    "        "
   ]
  },
  {
   "cell_type": "markdown",
   "metadata": {},
   "source": [
    "## Symbolic Solutions\n",
    "Of course numerical answers are something that could be achieved faster and easier with a different program that has more functionality. The thing that makes this module useful is that we can solve structures symbolically using Sympy."
   ]
  },
  {
   "cell_type": "markdown",
   "metadata": {},
   "source": [
    "We will solve the following structure symbolically:\n",
    "\n",
    "![Det Cant](img/simpleCant.png)"
   ]
  },
  {
   "cell_type": "markdown",
   "metadata": {},
   "source": [
    "First define the beam characteristics with sympy symbols and constrain them to be positive to eliminate the trivial and negative solutions."
   ]
  },
  {
   "cell_type": "code",
   "execution_count": 51,
   "metadata": {},
   "outputs": [],
   "source": [
    "L, P, E, I= symbols('L P E I', positive=True)\n",
    "A = 100000"
   ]
  },
  {
   "cell_type": "markdown",
   "metadata": {},
   "source": [
    "Again define the structure and solve. However, we must require that the solution does not solve for the unknown beam characteristics using the exclude keyword argument."
   ]
  },
  {
   "cell_type": "code",
   "execution_count": 52,
   "metadata": {},
   "outputs": [],
   "source": [
    "struct2 = Structure()\n",
    "\n",
    "\n",
    "struct2.add_node('1',(0,0))\n",
    "struct2.add_node('2',(L,0), restraint='rolling_x')\n",
    "struct2.add_node('3', (3*L, 0), restraint='fixed')\n",
    "\n",
    "struct2.add_beam('1', (1,2), E=E, A=A, I=I)\n",
    "struct2.add_beam('2', (2,3), E=E, A=A, I=I)\n",
    "\n",
    "struct2.add_load('1', (0, -P, 0))\n",
    "\n",
    "struct2.solve(exclude=[L, P, E, I])"
   ]
  },
  {
   "cell_type": "markdown",
   "metadata": {},
   "source": [
    "Again we can get the displacements, reactions, and internal forces in the same way as before."
   ]
  },
  {
   "cell_type": "code",
   "execution_count": 53,
   "metadata": {
    "scrolled": true
   },
   "outputs": [
    {
     "name": "stdout",
     "output_type": "stream",
     "text": [
      "Delta_1x:\t 0\n",
      "Delta_1y:\t -5*L**3*P/(6*E*I)\n",
      "theta_1:\t L**2*P/(E*I)\n",
      "Delta_2x:\t 0\n",
      "Delta_2y:\t 0\n",
      "theta_2:\t L**2*P/(2*E*I)\n",
      "Delta_3x:\t 0\n",
      "Delta_3y:\t 0\n",
      "theta_3:\t 0\n"
     ]
    }
   ],
   "source": [
    "### displacements\n",
    "for name, node in struct2.nodes.items():\n",
    "    print(f'Delta_{name}x:\\t', node.dx)\n",
    "    print(f'Delta_{name}y:\\t', node.dy)\n",
    "    print(f'theta_{name}:\\t', node.dt)"
   ]
  },
  {
   "cell_type": "code",
   "execution_count": 54,
   "metadata": {
    "scrolled": true
   },
   "outputs": [
    {
     "name": "stdout",
     "output_type": "stream",
     "text": [
      "F_1x:\t 0\n",
      "F_1y:\t -P\n",
      "M_1:\t 0\n",
      "F_2x:\t 0\n",
      "F_2y:\t 7*P/4\n",
      "M_2:\t 0\n",
      "F_3x:\t 0\n",
      "F_3y:\t -3*P/4\n",
      "M_3:\t L*P/2\n"
     ]
    }
   ],
   "source": [
    "### Reactions\n",
    "for name, node in struct2.nodes.items():\n",
    "    print(f'F_{name}x:\\t', node.fx)\n",
    "    print(f'F_{name}y:\\t', node.fy)\n",
    "    print(f'M_{name}:\\t', node.moment)"
   ]
  },
  {
   "cell_type": "code",
   "execution_count": 55,
   "metadata": {
    "scrolled": true
   },
   "outputs": [
    {
     "name": "stdout",
     "output_type": "stream",
     "text": [
      "N_12:\t 0\n",
      "V_12:\t -P\n",
      "M_12:\t 0\n",
      "N_21:\t 0\n",
      "V_21:\t P\n",
      "M_21:\t -L*P\n",
      "N_23:\t 0\n",
      "V_23:\t 3*P/4\n",
      "M_23:\t L*P\n",
      "N_32:\t 0\n",
      "V_32:\t -3*P/4\n",
      "M_32:\t L*P/2\n"
     ]
    }
   ],
   "source": [
    "for name, beam in struct2.beams.items():\n",
    "    beg = beam.nodeA.get_name()\n",
    "    end = beam.nodeB.get_name()\n",
    "    print(f'N_{beg}{end}:\\t', beam.internal[0])\n",
    "    print(f'V_{beg}{end}:\\t', beam.internal[1])\n",
    "    print(f'M_{beg}{end}:\\t', beam.internal[2])\n",
    "    print(f'N_{end}{beg}:\\t', beam.internal[3])\n",
    "    print(f'V_{end}{beg}:\\t', beam.internal[4])\n",
    "    print(f'M_{end}{beg}:\\t', beam.internal[5])"
   ]
  }
 ],
 "metadata": {
  "kernelspec": {
   "display_name": "Python 3",
   "language": "python",
   "name": "python3"
  },
  "language_info": {
   "codemirror_mode": {
    "name": "ipython",
    "version": 3
   },
   "file_extension": ".py",
   "mimetype": "text/x-python",
   "name": "python",
   "nbconvert_exporter": "python",
   "pygments_lexer": "ipython3",
   "version": "3.6.4"
  }
 },
 "nbformat": 4,
 "nbformat_minor": 2
}
